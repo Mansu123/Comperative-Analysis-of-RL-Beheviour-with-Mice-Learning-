{
  "nbformat": 4,
  "nbformat_minor": 0,
  "metadata": {
    "colab": {
      "private_outputs": true,
      "provenance": []
    },
    "kernelspec": {
      "name": "python3",
      "display_name": "Python 3"
    },
    "language_info": {
      "name": "python"
    }
  },
  "cells": [
    {
      "cell_type": "code",
      "source": [
        "import numpy as np\n",
        "import matplotlib.pyplot as plt\n",
        "import PIL.Image as Image\n",
        "import cv2\n",
        "import random\n",
        "\n",
        "def generate_image(width: int, height: int, radius_interval: tuple, intensity_interval: tuple, number_of_circles: int = 1) -> tuple:\n",
        "    image = np.zeros((height, width, 1), dtype=np.uint8) + 255\n",
        "    parts = [1, 2, 3]\n",
        "    screen_intensities = np.zeros((3, ))\n",
        "    left_circles = 0\n",
        "    right_circles = 0\n",
        "    middle_circles = 0\n",
        "    color = 0\n",
        "    thickness = 1\n",
        "    for _ in range(number_of_circles):\n",
        "        intensity = np.random.randint(intensity_interval[0], intensity_interval[1])\n",
        "        int_tmp = intensity * 25\n",
        "        intensity = 255 - (2 ** (2 * intensity) - 1)\n",
        "        radius = np.random.randint(radius_interval[0], radius_interval[1])\n",
        "        image_part = random.choice(parts)\n",
        "        parts.remove(image_part)\n",
        "        if image_part == 1:\n",
        "            # Left Screen\n",
        "            left_circles += 1\n",
        "            center_x = np.random.randint(radius, (width-2)//3 - 1 - radius)\n",
        "            center_y = np.random.randint(radius, height - 1 - radius)\n",
        "            screen_intensities[0] = int_tmp\n",
        "\n",
        "        elif image_part == 2:\n",
        "            # Middle Screen\n",
        "            middle_circles += 1\n",
        "            center_x = np.random.randint((width-2) // 3 + radius, 2 * (width-2) // 3 - 1 - radius)\n",
        "            center_y = np.random.randint(radius, height - 1 - radius)\n",
        "            screen_intensities[1] = int_tmp\n",
        "\n",
        "        else:\n",
        "            # Right Screen\n",
        "            right_circles += 1\n",
        "            center_x = np.random.randint(2 * (width-2) // 3  + radius, (width-2) - radius)\n",
        "            center_y = np.random.randint(radius, height - 1 - radius)\n",
        "            screen_intensities[2] = int_tmp\n",
        "\n",
        "        cv2.circle(image, (center_x, center_y), radius, intensity, -1)\n",
        "        # Gabor Effect\n",
        "        start_point = (center_x, center_y - radius)\n",
        "        end_point = (center_x - radius, center_y)\n",
        "        cv2.line(image, start_point, end_point, 255, thickness + 5)\n",
        "\n",
        "        start_point = (center_x + radius, center_y)\n",
        "        end_point = (center_x, center_y + radius)\n",
        "        cv2.line(image, start_point, end_point, 255, thickness + 5)\n",
        "\n",
        "        start_point = (center_x + int(np.sqrt(2) / 2 * radius), center_y - int(np.sqrt(2) / 2 * radius))\n",
        "        end_point = (center_x - int(np.sqrt(2) / 2 * radius), center_y + int(np.sqrt(2) / 2 * radius))\n",
        "        cv2.line(image, start_point, end_point, 255, thickness + 5)\n",
        "\n",
        "    # Screen Split lines\n",
        "    start_point1 = ((width-2) // 3, 0)\n",
        "    end_point1 = ((width-2) // 3, 599)\n",
        "    start_point2 = (2 * (width-2) // 3, 0)\n",
        "    end_point2 = (2 * (width-2) // 3, 599)\n",
        "\n",
        "    cv2.line(image, start_point1, end_point1, color, thickness)\n",
        "    cv2.line(image, start_point2, end_point2, color, thickness)\n",
        "\n",
        "    screen_part = None\n",
        "    if right_circles > 0 and (left_circles == 0 and middle_circles == 0):\n",
        "        screen_part = \"right\"\n",
        "\n",
        "    elif left_circles > 0 and (right_circles == 0 and middle_circles == 0):\n",
        "        screen_part = \"left\"\n",
        "\n",
        "    elif middle_circles > 0 and (right_circles == 0 and left_circles == 0):\n",
        "        screen_part = \"middle\"\n",
        "\n",
        "    elif right_circles > 0 and left_circles > 0 and middle_circles == 0:\n",
        "        screen_part = \"right-left\"\n",
        "\n",
        "    elif middle_circles > 0 and left_circles > 0 and right_circles == 0:\n",
        "        screen_part = \"middle-left\"\n",
        "\n",
        "    elif right_circles > 0 and middle_circles > 0 and left_circles == 0:\n",
        "        screen_part = \"right-middle\"\n",
        "\n",
        "    elif right_circles > 0 and left_circles > 0 and middle_circles > 0:\n",
        "        screen_part = \"right-middle-left\"\n",
        "\n",
        "    else:\n",
        "        screen_part = \"\"\n",
        "\n",
        "\n",
        "    return (image, screen_part, screen_intensities)"
      ],
      "metadata": {
        "id": "_3nU0EbcEDRR"
      },
      "execution_count": null,
      "outputs": []
    },
    {
      "cell_type": "code",
      "source": [
        "# Image generation test\n",
        "\n",
        "test = generate_image(902, 600, (10,100), (0,5), 1)\n",
        "\n",
        "plt.imshow(test[0], cmap='Greys')\n",
        "plt.show()\n",
        "\n",
        "# image = Image.fromarray(test[0])"
      ],
      "metadata": {
        "id": "XuYULSD90EHz"
      },
      "execution_count": null,
      "outputs": []
    },
    {
      "cell_type": "code",
      "source": [
        "# Image generation test\n",
        "\n",
        "test = generate_image(902, 600, (10,50), (0,6), 2)\n",
        "\n",
        "plt.imshow(test[0])#, cmap='Greys')\n",
        "plt.show()\n",
        "\n",
        "print(test[1:])\n",
        "# image = Image.fromarray(test[0])"
      ],
      "metadata": {
        "id": "X6J2fvu12vBZ"
      },
      "execution_count": null,
      "outputs": []
    },
    {
      "cell_type": "code",
      "source": [
        "from PIL import Image\n",
        "\n",
        "\n",
        "import random\n",
        "data = [random.randint(0, 1) for i in range(64 * 64)]\n",
        "\n",
        "img = Image.new('1', (64, 64))\n",
        "img.putdata(data)\n",
        "img.save('my.png')\n",
        "img.show()\n"
      ],
      "metadata": {
        "id": "SyUaNE3owOrF"
      },
      "execution_count": null,
      "outputs": []
    },
    {
      "cell_type": "code",
      "source": [
        "import numpy as np\n",
        "data = np.zeros( (512,512,3), dtype=np.uint8)\n",
        "data[256,256] = [255,0,0]"
      ],
      "metadata": {
        "id": "_TU_hoTpg-t3"
      },
      "execution_count": null,
      "outputs": []
    },
    {
      "cell_type": "code",
      "source": [
        "from PIL import Image\n",
        "import numpy as np\n",
        "\n",
        "w, h = 512, 512\n",
        "data = np.zeros((h, w, 3), dtype=np.uint8)\n",
        "data[0:256, 0:256] = [255, 0, 0] # red patch in upper left\n",
        "img = Image.fromarray(data, 'RGB')\n",
        "img.save('my.png')\n",
        "img.show()"
      ],
      "metadata": {
        "id": "cEJAAOGqg-we"
      },
      "execution_count": null,
      "outputs": []
    }
  ]
}