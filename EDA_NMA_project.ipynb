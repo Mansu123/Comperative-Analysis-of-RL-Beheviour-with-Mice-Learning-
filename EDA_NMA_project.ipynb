{
  "nbformat": 4,
  "nbformat_minor": 0,
  "metadata": {
    "colab": {
      "private_outputs": true,
      "provenance": []
    },
    "kernelspec": {
      "name": "python3",
      "display_name": "Python 3"
    },
    "language_info": {
      "name": "python"
    }
  },
  "cells": [
    {
      "cell_type": "code",
      "execution_count": null,
      "metadata": {
        "id": "sMM1kz834CLB"
      },
      "outputs": [],
      "source": [
        "import numpy as np\n",
        "import matplotlib.pyplot as plt\n",
        "from scipy.stats import zscore\n",
        "from sklearn.decomposition import PCA"
      ]
    },
    {
      "cell_type": "code",
      "source": [
        "# @title Figure settings\n",
        "from matplotlib import rcParams\n",
        "\n",
        "rcParams['figure.figsize'] = [20, 4]\n",
        "rcParams['font.size'] = 15\n",
        "rcParams['axes.spines.top'] = False\n",
        "rcParams['axes.spines.right'] = False\n",
        "rcParams['figure.autolayout'] = True"
      ],
      "metadata": {
        "id": "NjK4CPRg4HaR"
      },
      "execution_count": null,
      "outputs": []
    },
    {
      "cell_type": "code",
      "source": [
        "# @title Data retrieval\n",
        "import os, requests\n",
        "\n",
        "fname = []\n",
        "for j in range(3):\n",
        "  fname.append('steinmetz_part%d.npz'%j)\n",
        "url = [\"https://osf.io/agvxh/download\"]\n",
        "url.append(\"https://osf.io/uv3mw/download\")\n",
        "url.append(\"https://osf.io/ehmw2/download\")\n",
        "\n",
        "for j in range(len(url)):\n",
        "  if not os.path.isfile(fname[j]):\n",
        "    try:\n",
        "      r = requests.get(url[j])\n",
        "    except requests.ConnectionError:\n",
        "      print(\"!!! Failed to download data !!!\")\n",
        "    else:\n",
        "      if r.status_code != requests.codes.ok:\n",
        "        print(\"!!! Failed to download data !!!\")\n",
        "      else:\n",
        "        with open(fname[j], \"wb\") as fid:\n",
        "          fid.write(r.content)"
      ],
      "metadata": {
        "id": "6RtdE3sH4HdI"
      },
      "execution_count": null,
      "outputs": []
    },
    {
      "cell_type": "code",
      "source": [
        "# @title Data loading\n",
        "alldat = np.array([])\n",
        "for j in range(len(fname)):\n",
        "  alldat = np.hstack((alldat,\n",
        "                      np.load('steinmetz_part%d.npz'%j,\n",
        "                              allow_pickle=True)['dat']))"
      ],
      "metadata": {
        "id": "iZNJJx_R4Hfq"
      },
      "execution_count": null,
      "outputs": []
    },
    {
      "cell_type": "code",
      "execution_count": null,
      "metadata": {
        "execution": {},
        "id": "uZ0K4vg51pcm"
      },
      "outputs": [],
      "source": [
        "# Make a plot of which brain areas are present in each dataset\n",
        "# note that region 4 (\"other ctx\" are neurons that were not able to be classified)\n",
        "# region 4 does not correspond to brain_group 4, which are all cortical neurons outside of visual cortex\n",
        "regions = [\"vis ctx\", \"thal\", \"hipp\", \"other ctx\", \"midbrain\", \"basal ganglia\", \"cortical subplate\", \"other\"]\n",
        "region_colors = ['blue', 'red', 'green', 'darkblue', 'violet', 'lightblue', 'orange', 'gray']\n",
        "brain_groups = [[\"VISa\", \"VISam\", \"VISl\", \"VISp\", \"VISpm\", \"VISrl\"],  # visual cortex\n",
        "                [\"CL\", \"LD\", \"LGd\", \"LH\", \"LP\", \"MD\", \"MG\", \"PO\", \"POL\", \"PT\", \"RT\", \"SPF\", \"TH\", \"VAL\", \"VPL\", \"VPM\"], # thalamus\n",
        "                [\"CA\", \"CA1\", \"CA2\", \"CA3\", \"DG\", \"SUB\", \"POST\"],  # hippocampal\n",
        "                [\"ACA\", \"AUD\", \"COA\", \"DP\", \"ILA\", \"MOp\", \"MOs\", \"OLF\", \"ORB\", \"ORBm\", \"PIR\", \"PL\", \"SSp\", \"SSs\", \"RSP\",\"TT\"],  # non-visual cortex\n",
        "                [\"APN\", \"IC\", \"MB\", \"MRN\", \"NB\", \"PAG\", \"RN\", \"SCs\", \"SCm\", \"SCig\", \"SCsg\", \"ZI\"],  # midbrain\n",
        "                [\"ACB\", \"CP\", \"GPe\", \"LS\", \"LSc\", \"LSr\", \"MS\", \"OT\", \"SNr\", \"SI\"],  # basal ganglia\n",
        "                [\"BLA\", \"BMA\", \"EP\", \"EPd\", \"MEA\"]  # cortical subplate\n",
        "                ]\n",
        "\n",
        "# Assign each area an index\n",
        "area_to_index = dict(root=0)\n",
        "counter = 1\n",
        "for group in brain_groups:\n",
        "    for area in group:\n",
        "        area_to_index[area] = counter\n",
        "        counter += 1\n",
        "\n",
        "# Figure out which areas are in each dataset\n",
        "areas_by_dataset = np.zeros((counter, len(alldat)), dtype=bool)\n",
        "for j, d in enumerate(alldat):\n",
        "    for area in np.unique(d['brain_area']):\n",
        "        i = area_to_index[area]\n",
        "        areas_by_dataset[i, j] = True\n",
        "\n",
        "# Show the binary matrix\n",
        "plt.figure(figsize=(8, 10))\n",
        "plt.imshow(areas_by_dataset, cmap=\"Greys\", aspect=\"auto\", interpolation=\"none\")\n",
        "\n",
        "# Label the axes\n",
        "plt.xlabel(\"dataset\")\n",
        "plt.ylabel(\"area\")\n",
        "\n",
        "# Add tick labels\n",
        "yticklabels = [\"root\"]\n",
        "for group in brain_groups:\n",
        "  yticklabels.extend(group)\n",
        "plt.yticks(np.arange(counter), yticklabels, fontsize=8)\n",
        "plt.xticks(np.arange(len(alldat)), fontsize=9)\n",
        "\n",
        "# Color the tick labels by region\n",
        "ytickobjs = plt.gca().get_yticklabels()\n",
        "ytickobjs[0].set_color(\"black\")\n",
        "counter = 1\n",
        "for group, color in zip(brain_groups, region_colors):\n",
        "  for area in group:\n",
        "    ytickobjs[counter].set_color(color)\n",
        "    counter += 1\n",
        "\n",
        "plt.title(\"Brain areas present in each dataset\")\n",
        "plt.grid(True)\n",
        "plt.show()"
      ]
    },
    {
      "cell_type": "code",
      "source": [
        "# @title Basic plots of population average\n",
        "\n",
        "# select just one of the recordings here. 11 is nice because it has some neurons in vis ctx.\n",
        "dat = alldat[11]\n",
        "print(dat.keys())\n",
        "\n",
        "dt = dat['bin_size']  # binning at 10 ms\n",
        "NT = dat['spks'].shape[-1]\n",
        "\n",
        "ax = plt.subplot(1, 5, 1)\n",
        "response = dat['response']  # right - nogo - left (-1, 0, 1)\n",
        "vis_right = dat['contrast_right']  # 0 - low - high\n",
        "vis_left = dat['contrast_left']  # 0 - low - high\n",
        "plt.plot(dt * np.arange(NT), 1/dt * dat['spks'][:, response >= 0].mean(axis=(0, 1)))  # left responses\n",
        "plt.plot(dt * np.arange(NT), 1/dt * dat['spks'][:, response < 0].mean(axis=(0, 1)))  # right responses\n",
        "plt.plot(dt * np.arange(NT), 1/dt * dat['spks'][:, vis_right > 0].mean(axis=(0, 1)))  # stimulus on the right\n",
        "plt.plot(dt * np.arange(NT), 1/dt * dat['spks'][:, vis_right == 0].mean(axis=(0, 1)))  # no stimulus on the right\n",
        "\n",
        "plt.legend(['left resp', 'right resp', 'right stim', 'no right stim'], fontsize=12)\n",
        "ax.set(xlabel='time (sec)', ylabel='firing rate (Hz)')\n",
        "plt.show()"
      ],
      "metadata": {
        "id": "ncXjsKUy6QlQ"
      },
      "execution_count": null,
      "outputs": []
    },
    {
      "cell_type": "code",
      "execution_count": null,
      "metadata": {
        "execution": {},
        "id": "WqAxZ9tW1pco"
      },
      "outputs": [],
      "source": [
        "nareas = 4  # only the top 4 regions are in this particular mouse\n",
        "NN = len(dat['brain_area'])  # number of neurons\n",
        "barea = nareas * np.ones(NN, )  # last one is \"other\"\n",
        "for j in range(nareas):\n",
        "  barea[np.isin(dat['brain_area'], brain_groups[j])] = j  # assign a number to each region"
      ]
    },
    {
      "cell_type": "code",
      "execution_count": null,
      "metadata": {
        "execution": {},
        "id": "aTGCFaWg1pcp"
      },
      "outputs": [],
      "source": [
        "# @title plots by brain region and visual conditions\n",
        "for j in range(nareas):\n",
        "  ax = plt.subplot(1, nareas, j + 1)\n",
        "\n",
        "  plt.plot(1/dt * dat['spks'][barea==j][:, np.logical_and(vis_left == 0, vis_right > 0)].mean(axis=(0, 1)))\n",
        "  plt.plot(1/dt * dat['spks'][barea==j][:, np.logical_and(vis_left > 0, vis_right == 0)].mean(axis=(0, 1)))\n",
        "  plt.plot(1/dt * dat['spks'][barea==j][:, np.logical_and(vis_left == 0, vis_right == 0)].mean(axis=(0, 1)))\n",
        "  plt.plot(1/dt * dat['spks'][barea==j][:, np.logical_and(vis_left > 0, vis_right > 0)].mean(axis=(0, 1)))\n",
        "  plt.text(.25, .92, 'n=%d'%np.sum(barea == j), transform=ax.transAxes)\n",
        "\n",
        "  if j==0:\n",
        "    plt.legend(['right only', 'left only', 'neither', 'both'], fontsize=12)\n",
        "  ax.set(xlabel='binned time', ylabel='mean firing rate (Hz)', title=regions[j])\n",
        "plt.show()"
      ]
    },
    {
      "cell_type": "code",
      "source": [
        "brain_groups_all = list(np.hstack(brain_groups))\n",
        "print(len(brain_groups_all))"
      ],
      "metadata": {
        "id": "Nbahhrci5z5f"
      },
      "execution_count": null,
      "outputs": []
    },
    {
      "cell_type": "code",
      "source": [
        "for key in alldat[0].keys():\n",
        "    print(key)"
      ],
      "metadata": {
        "id": "JIzMlCUv5z23"
      },
      "execution_count": null,
      "outputs": []
    },
    {
      "cell_type": "code",
      "source": [
        "#Generate some metadata for the neuron regions.\n",
        "\n",
        "def generate_metadata(dat):\n",
        "    n_neurons = (len(dat['brain_area']))\n",
        "    n_regions = len(regions)\n",
        "    region_index = np.zeros(n_neurons)\n",
        "    group_index = np.zeros(n_neurons)\n",
        "    for region in range(len(regions)-1):\n",
        "        region_index[np.isin(dat['brain_area'], brain_groups[region])] = region\n",
        "    for group in range(len(brain_groups_all)):\n",
        "        group_index[np.where(dat['brain_area']==brain_groups_all[group])[0]] = group\n",
        "    return n_neurons, region_index, group_index"
      ],
      "metadata": {
        "id": "_C7UqSQY5zzw"
      },
      "execution_count": null,
      "outputs": []
    },
    {
      "cell_type": "code",
      "source": [
        "np.shape(alldat[0]['spks'])"
      ],
      "metadata": {
        "id": "ncKr_EaP4HiH"
      },
      "execution_count": null,
      "outputs": []
    },
    {
      "cell_type": "code",
      "source": [
        "#Choose dataset\n",
        "session =3\n",
        "dat = alldat[session]\n",
        "dt = dat['bin_size']\n",
        "no_of_bins = np.shape(dat['spks'])[2]\n",
        "n_neurons, region_index, group_index = generate_metadata(dat)\n",
        "spikes_all = dat['spks']\n",
        "spikes_passive = dat['spks_passive']\n",
        "groups_present = np.unique(dat['brain_area'])\n",
        "n_group_present = len(np.unique(dat['brain_area']))\n",
        "\n",
        "CR_idx = np.where(dat['feedback_type']==1)[0]\n",
        "WR_idx = np.where(dat['feedback_type']==-1)[0]\n",
        "spikes_CR = dat['spks'][:, CR_idx, :]\n",
        "spikes_WR = dat['spks'][:, WR_idx, :]"
      ],
      "metadata": {
        "id": "Dq-9GhiF4HnY"
      },
      "execution_count": null,
      "outputs": []
    },
    {
      "cell_type": "code",
      "source": [
        "print(np.unique(group_index))"
      ],
      "metadata": {
        "id": "QwBbUEPl4HqR"
      },
      "execution_count": null,
      "outputs": []
    },
    {
      "cell_type": "code",
      "metadata": {
        "id": "bkwdzcu2IjDt"
      },
      "source": [
        "group_activation_CR = np.zeros((n_group_present, no_of_bins))\n",
        "group_activation_WR = np.zeros((n_group_present, no_of_bins))\n",
        "for idx, group in enumerate(groups_present):\n",
        "    CR_spikes = np.mean(spikes_CR[np.where(dat['brain_area'] == group)[0],:,:],axis=(0,1))#/np.mean(spikes_passive[np.where(dat['brain_area'] == group)[0],:,:],axis=(0,1,2))\n",
        "    WR_spikes = np.mean(spikes_WR[np.where(dat['brain_area'] == group)[0],:,:],axis=(0,1))#/np.mean(spikes_passive[np.where(dat['brain_area'] == group)[0],:,:],axis=(0,1,2))\n",
        "\n",
        "    #Normalize\n",
        "    CR_spikes = (CR_spikes - np.min(CR_spikes))/np.ptp(CR_spikes)\n",
        "    WR_spikes = (WR_spikes - np.min(WR_spikes))/np.ptp(WR_spikes)\n",
        "\n",
        "    group_activation_CR[idx,:] = CR_spikes\n",
        "    group_activation_WR[idx,:] = WR_spikes\n",
        "\n",
        "plt.pcolormesh(group_activation_CR)\n",
        "plt.yticks(np.arange(0.5,len(groups_present),1),groups_present)\n",
        "plt.ylabel('Brain Group')\n",
        "plt.xlabel('Time Bins (10ms)')\n",
        "plt.title('Spiking Activity during trials with correct response in session '+str(session))\n",
        "plt.colorbar()\n",
        "plt.show()\n",
        "plt.pcolormesh(group_activation_WR)\n",
        "plt.yticks(np.arange(0.5,len(groups_present),1),groups_present)\n",
        "plt.ylabel('Brain Group')\n",
        "plt.xlabel('Time Bins (10ms)')\n",
        "plt.title('Spiking Activity during trials with incorrect response in session '+str(session))\n",
        "plt.colorbar()\n",
        "plt.show()"
      ],
      "execution_count": null,
      "outputs": []
    },
    {
      "cell_type": "code",
      "source": [],
      "metadata": {
        "id": "UMA34RVeNgNp"
      },
      "execution_count": null,
      "outputs": []
    },
    {
      "cell_type": "code",
      "source": [],
      "metadata": {
        "id": "PQyzP1soOHge"
      },
      "execution_count": null,
      "outputs": []
    },
    {
      "cell_type": "code",
      "source": [],
      "metadata": {
        "id": "_xwFOctBOHcG"
      },
      "execution_count": null,
      "outputs": []
    },
    {
      "cell_type": "code",
      "source": [],
      "metadata": {
        "id": "ll8Ak27PNgKn"
      },
      "execution_count": null,
      "outputs": []
    },
    {
      "cell_type": "code",
      "source": [],
      "metadata": {
        "id": "VwwcsPI1NgHY"
      },
      "execution_count": null,
      "outputs": []
    },
    {
      "cell_type": "code",
      "source": [],
      "metadata": {
        "id": "VhGP-8xFNgD3"
      },
      "execution_count": null,
      "outputs": []
    }
  ]
}